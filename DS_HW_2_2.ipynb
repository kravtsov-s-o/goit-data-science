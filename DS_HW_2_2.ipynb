{
  "nbformat": 4,
  "nbformat_minor": 0,
  "metadata": {
    "colab": {
      "provenance": []
    },
    "kernelspec": {
      "name": "python3",
      "display_name": "Python 3"
    },
    "language_info": {
      "name": "python"
    }
  },
  "cells": [
    {
      "cell_type": "markdown",
      "source": [
        "# Частина друга: Аналіз файлів"
      ],
      "metadata": {
        "id": "wC2sNYE6U52J"
      }
    },
    {
      "cell_type": "code",
      "execution_count": 9,
      "metadata": {
        "colab": {
          "base_uri": "https://localhost:8080/"
        },
        "id": "I0kYg9QYU2nj",
        "outputId": "3b07ae3b-5e35-483f-a326-68bacdced55d"
      },
      "outputs": [
        {
          "output_type": "stream",
          "name": "stdout",
          "text": [
            "Mounted at /content/drive\n"
          ]
        }
      ],
      "source": [
        "import pandas as pd\n",
        "from google.colab import drive\n",
        "drive.mount('/content/drive')"
      ]
    },
    {
      "cell_type": "markdown",
      "source": [
        "Прочитайте файл 2017_jun_final.csv за допомогою методу read_csv\n",
        "\n",
        "*!!! Работаю в Colab (чтение файла с Google Drive)*"
      ],
      "metadata": {
        "id": "65USzfIhVKIn"
      }
    },
    {
      "cell_type": "code",
      "source": [
        "file_path = '/content/drive/MyDrive/Colab Notebooks/2017_jun_final.csv'\n",
        "data = pd.read_csv(file_path)"
      ],
      "metadata": {
        "id": "fymIywdTVMT7"
      },
      "execution_count": 21,
      "outputs": []
    },
    {
      "cell_type": "markdown",
      "source": [
        "Прочитайте отриману таблицю, використовуючи метод head"
      ],
      "metadata": {
        "id": "8B5ea3_RYd-R"
      }
    },
    {
      "cell_type": "code",
      "source": [
        "print(data.head())"
      ],
      "metadata": {
        "colab": {
          "base_uri": "https://localhost:8080/"
        },
        "id": "e3NpKilLYeza",
        "outputId": "6bb6e112-61a2-4caa-d326-c90cdeb29723"
      },
      "execution_count": 13,
      "outputs": [
        {
          "output_type": "stream",
          "name": "stdout",
          "text": [
            "   N                    Посада Мова програмування Спеціалізація  \\\n",
            "0  1        Junior QA engineer                NaN     Manual QA   \n",
            "1  2        Junior QA engineer                NaN     Manual QA   \n",
            "2  3         Software Engineer            C#/.NET           NaN   \n",
            "3  4         Software Engineer         JavaScript           NaN   \n",
            "4  5  Senior Software Engineer         JavaScript           NaN   \n",
            "\n",
            "  Загальний досвід роботи Досвід роботи на поточному місці  \\\n",
            "0                     0.5                              0.5   \n",
            "1         менше 3 місяців                  менше 3 місяців   \n",
            "2                       4                                1   \n",
            "3                       5                                4   \n",
            "4       10 і більше років                              0.5   \n",
            "\n",
            "   Зарплата на місяць  Зміна зарплати за 12 місяців   Місто   Розмір компанії  \\\n",
            "0                 400                             0  Харків        до 10 осіб   \n",
            "1                 430                           130  Харків  більше 1000 осіб   \n",
            "2                2500                           800    Київ      до 1000 осіб   \n",
            "3                2000                           400   Одеса       до 200 осіб   \n",
            "4                4500                           500    Інше        до 10 осіб   \n",
            "\n",
            "   ... Ще студент                    Рівень англійської  \\\n",
            "0  ...       True    Pre-intermediate (нище середнього)   \n",
            "1  ...       True  Upper-Intermediate (вище середнього)   \n",
            "2  ...      False               Intermediate (середній)   \n",
            "3  ...      False    Pre-intermediate (нище середнього)   \n",
            "4  ...      False               Intermediate (середній)   \n",
            "\n",
            "                   Предметна область      Дата заповнення  \\\n",
            "0                      iOS,eCommerce  12/06/2017 12:38:08   \n",
            "1                       Веб-розробка  12/06/2017 12:42:51   \n",
            "2  Веб-розробка,Корпоративні системи  12/06/2017 13:02:47   \n",
            "3  Desktop Applications,Веб-розробка  12/06/2017 13:03:01   \n",
            "4  Desktop Applications,Веб-розробка  12/06/2017 13:03:47   \n",
            "\n",
            "                                          User.Agent   exp current_job_exp  \\\n",
            "0  Mozilla/5.0 (Windows NT 10.0; Win64; x64) Appl...   0.5             0.5   \n",
            "1  Mozilla/5.0 (iPad; CPU OS 10_2_1 like Mac OS X...   0.0             0.0   \n",
            "2  Mozilla/5.0 (Windows NT 10.0; Win64; x64) Appl...   4.0             1.0   \n",
            "3  Mozilla/5.0 (Windows NT 6.1; Win64; x64) Apple...   5.0             4.0   \n",
            "4  Mozilla/5.0 (iPhone; CPU iPhone OS 10_3_2 like...  10.0             0.5   \n",
            "\n",
            "  salary Валюта  cls  \n",
            "0    400    NaN   QA  \n",
            "1    430    NaN   QA  \n",
            "2   2500    NaN  DEV  \n",
            "3   2000    NaN  DEV  \n",
            "4   4500    NaN  DEV  \n",
            "\n",
            "[5 rows x 25 columns]\n"
          ]
        }
      ]
    },
    {
      "cell_type": "markdown",
      "source": [
        "Визначте розмір таблиці за допомогою методу shape"
      ],
      "metadata": {
        "id": "sa4SIGjyYtM6"
      }
    },
    {
      "cell_type": "code",
      "source": [
        "print(data.shape)"
      ],
      "metadata": {
        "colab": {
          "base_uri": "https://localhost:8080/"
        },
        "id": "ydWdAvXwYthY",
        "outputId": "2814fa0a-efb4-4d52-bec7-406185ea2c2b"
      },
      "execution_count": 14,
      "outputs": [
        {
          "output_type": "stream",
          "name": "stdout",
          "text": [
            "(8704, 25)\n"
          ]
        }
      ]
    },
    {
      "cell_type": "markdown",
      "source": [
        "Визначте типи всіх стовпців за допомогою dataframe.dtypes"
      ],
      "metadata": {
        "id": "ZIGUmXZVYx_y"
      }
    },
    {
      "cell_type": "code",
      "source": [
        "print(data.dtypes)"
      ],
      "metadata": {
        "colab": {
          "base_uri": "https://localhost:8080/"
        },
        "id": "UVO9O7llYyTi",
        "outputId": "6923ebd7-f38d-4cd6-9d76-ced44e141396"
      },
      "execution_count": 15,
      "outputs": [
        {
          "output_type": "stream",
          "name": "stdout",
          "text": [
            "N                                     int64\n",
            "Посада                               object\n",
            "Мова програмування                   object\n",
            "Спеціалізація                        object\n",
            "Загальний досвід роботи              object\n",
            "Досвід роботи на поточному місці     object\n",
            "Зарплата на місяць                    int64\n",
            "Зміна зарплати за 12 місяців          int64\n",
            "Місто                                object\n",
            "Розмір компанії                      object\n",
            "Тип компанії                         object\n",
            "Стать                                object\n",
            "Вік                                   int64\n",
            "Освіта                               object\n",
            "Університет                          object\n",
            "Ще студент                             bool\n",
            "Рівень англійської                   object\n",
            "Предметна область                    object\n",
            "Дата заповнення                      object\n",
            "User.Agent                           object\n",
            "exp                                 float64\n",
            "current_job_exp                     float64\n",
            "salary                                int64\n",
            "Валюта                               object\n",
            "cls                                  object\n",
            "dtype: object\n"
          ]
        }
      ]
    },
    {
      "cell_type": "markdown",
      "source": [
        "Порахуйте, яка частка пропусків міститься в кожній колонці (використовуйте методи isnull та sum)"
      ],
      "metadata": {
        "id": "jQMHimwWY4zx"
      }
    },
    {
      "cell_type": "code",
      "source": [
        "print(data.isnull().sum())"
      ],
      "metadata": {
        "colab": {
          "base_uri": "https://localhost:8080/"
        },
        "id": "F6slO_ooY5Tx",
        "outputId": "5ae933a9-d9f5-4d16-b09a-6fa4e53652c3"
      },
      "execution_count": 16,
      "outputs": [
        {
          "output_type": "stream",
          "name": "stdout",
          "text": [
            "N                                      0\n",
            "Посада                                 0\n",
            "Мова програмування                  3850\n",
            "Спеціалізація                       7219\n",
            "Загальний досвід роботи                0\n",
            "Досвід роботи на поточному місці       0\n",
            "Зарплата на місяць                     0\n",
            "Зміна зарплати за 12 місяців           0\n",
            "Місто                                  0\n",
            "Розмір компанії                        0\n",
            "Тип компанії                           0\n",
            "Стать                                  0\n",
            "Вік                                    0\n",
            "Освіта                                 0\n",
            "Університет                          358\n",
            "Ще студент                             0\n",
            "Рівень англійської                     0\n",
            "Предметна область                    223\n",
            "Дата заповнення                        0\n",
            "User.Agent                             0\n",
            "exp                                    0\n",
            "current_job_exp                        0\n",
            "salary                                 0\n",
            "Валюта                              8694\n",
            "cls                                 1574\n",
            "dtype: int64\n"
          ]
        }
      ]
    },
    {
      "cell_type": "markdown",
      "source": [
        "Видаліть усі стовпці з пропусками, крім стовпця \"Мова програмування\""
      ],
      "metadata": {
        "id": "cmDEgg_kZHxG"
      }
    },
    {
      "cell_type": "code",
      "source": [
        "columns_to_drop = [col for col in data.columns if col != 'Мова програмування' and data[col].isnull().any()]\n",
        "data_cleaned = data.drop(columns=columns_to_drop)\n",
        "\n",
        "print(data_cleaned)"
      ],
      "metadata": {
        "colab": {
          "base_uri": "https://localhost:8080/"
        },
        "id": "QEgHzhX6Z37N",
        "outputId": "cdd3d52c-0187-41e7-abe2-fa297f1da487"
      },
      "execution_count": 27,
      "outputs": [
        {
          "output_type": "stream",
          "name": "stdout",
          "text": [
            "         N                    Посада Мова програмування  \\\n",
            "0        1        Junior QA engineer                NaN   \n",
            "1        2        Junior QA engineer                NaN   \n",
            "2        3         Software Engineer            C#/.NET   \n",
            "3        4         Software Engineer         JavaScript   \n",
            "4        5  Senior Software Engineer         JavaScript   \n",
            "...    ...                       ...                ...   \n",
            "8699  8700               QA engineer                NaN   \n",
            "8700  8701                 Marketing                NaN   \n",
            "8701  8702  Junior Software Engineer         Ruby/Rails   \n",
            "8702  8703                 Team lead                NaN   \n",
            "8703  8704  Senior Software Engineer               Java   \n",
            "\n",
            "     Загальний досвід роботи Досвід роботи на поточному місці  \\\n",
            "0                        0.5                              0.5   \n",
            "1            менше 3 місяців                  менше 3 місяців   \n",
            "2                          4                                1   \n",
            "3                          5                                4   \n",
            "4          10 і більше років                              0.5   \n",
            "...                      ...                              ...   \n",
            "8699                       1                  менше 3 місяців   \n",
            "8700                     0.5                              0.5   \n",
            "8701                       1                              0.5   \n",
            "8702                       6                                4   \n",
            "8703                       7                                2   \n",
            "\n",
            "      Зарплата на місяць  Зміна зарплати за 12 місяців   Місто  \\\n",
            "0                    400                             0  Харків   \n",
            "1                    430                           130  Харків   \n",
            "2                   2500                           800    Київ   \n",
            "3                   2000                           400   Одеса   \n",
            "4                   4500                           500    Інше   \n",
            "...                  ...                           ...     ...   \n",
            "8699                 700                           700   Одеса   \n",
            "8700                 400                           120    Київ   \n",
            "8701                 800                           500   Львів   \n",
            "8702                2600                             0  Дніпро   \n",
            "8703                5000                           800   Одеса   \n",
            "\n",
            "       Розмір компанії   Тип компанії     Стать  Вік             Освіта  \\\n",
            "0           до 10 осіб  Аутсорсингова    жіноча   20       Неповна Вища   \n",
            "1     більше 1000 осіб  Аутсорсингова    жіноча   21       Неповна Вища   \n",
            "2         до 1000 осіб  Аутсорсингова  чоловіча   26               Вища   \n",
            "3          до 200 осіб     Продуктова  чоловіча   30            Середня   \n",
            "4           до 10 осіб     Продуктова  чоловіча   30  Технікум / Коледж   \n",
            "...                ...            ...       ...  ...                ...   \n",
            "8699        до 50 осіб  Аутсорсингова  чоловіча   23               Вища   \n",
            "8700        до 50 осіб     Продуктова    жіноча   22               Вища   \n",
            "8701        до 10 осіб  Аутстафінгова  чоловіча   30       Неповна Вища   \n",
            "8702  більше 1000 осіб  Аутсорсингова  чоловіча   34               Вища   \n",
            "8703      до 1000 осіб     Продуктова  чоловіча   28               Вища   \n",
            "\n",
            "      Ще студент                    Рівень англійської      Дата заповнення  \\\n",
            "0           True    Pre-intermediate (нище середнього)  12/06/2017 12:38:08   \n",
            "1           True  Upper-Intermediate (вище середнього)  12/06/2017 12:42:51   \n",
            "2          False               Intermediate (середній)  12/06/2017 13:02:47   \n",
            "3          False    Pre-intermediate (нище середнього)  12/06/2017 13:03:01   \n",
            "4          False               Intermediate (середній)  12/06/2017 13:03:47   \n",
            "...          ...                                   ...                  ...   \n",
            "8699       False               Intermediate (середній)  12/07/2017 15:45:24   \n",
            "8700       False    Pre-intermediate (нище середнього)  12/07/2017 17:00:06   \n",
            "8701       False  Upper-Intermediate (вище середнього)  12/07/2017 17:32:26   \n",
            "8702       False                 Advanced (просунутий)  12/07/2017 18:14:59   \n",
            "8703       False  Upper-Intermediate (вище середнього)  12/07/2017 21:28:57   \n",
            "\n",
            "                                             User.Agent   exp  \\\n",
            "0     Mozilla/5.0 (Windows NT 10.0; Win64; x64) Appl...   0.5   \n",
            "1     Mozilla/5.0 (iPad; CPU OS 10_2_1 like Mac OS X...   0.0   \n",
            "2     Mozilla/5.0 (Windows NT 10.0; Win64; x64) Appl...   4.0   \n",
            "3     Mozilla/5.0 (Windows NT 6.1; Win64; x64) Apple...   5.0   \n",
            "4     Mozilla/5.0 (iPhone; CPU iPhone OS 10_3_2 like...  10.0   \n",
            "...                                                 ...   ...   \n",
            "8699  Mozilla/5.0 (X11; Ubuntu; Linux x86_64; rv:54....   1.0   \n",
            "8700  Mozilla/5.0 (Windows NT 10.0; Win64; x64) Appl...   0.5   \n",
            "8701  Mozilla/5.0 (X11; Linux x86_64) AppleWebKit/53...   1.0   \n",
            "8702  Mozilla/5.0 (Windows NT 6.1) AppleWebKit/537.3...   6.0   \n",
            "8703  Mozilla/5.0 (iPad; CPU OS 10_3_2 like Mac OS X...   7.0   \n",
            "\n",
            "      current_job_exp  salary  \n",
            "0                 0.5     400  \n",
            "1                 0.0     430  \n",
            "2                 1.0    2500  \n",
            "3                 4.0    2000  \n",
            "4                 0.5    4500  \n",
            "...               ...     ...  \n",
            "8699              0.0     700  \n",
            "8700              0.5     400  \n",
            "8701              0.5     800  \n",
            "8702              4.0    2600  \n",
            "8703              2.0    5000  \n",
            "\n",
            "[8704 rows x 20 columns]\n"
          ]
        }
      ]
    },
    {
      "cell_type": "markdown",
      "source": [
        "Знову порахуйте, яка частка пропусків міститься в кожній колонці і переконайтеся, що залишився тільки стовпець \"Мова.програмування\""
      ],
      "metadata": {
        "id": "74zZax_saorK"
      }
    },
    {
      "cell_type": "code",
      "source": [
        "print(data_cleaned.isnull().sum())"
      ],
      "metadata": {
        "colab": {
          "base_uri": "https://localhost:8080/"
        },
        "id": "5EVHpfbkapzt",
        "outputId": "192604c6-d74c-47c7-ea1f-01175bc5c6b3"
      },
      "execution_count": 26,
      "outputs": [
        {
          "output_type": "stream",
          "name": "stdout",
          "text": [
            "N                                      0\n",
            "Посада                                 0\n",
            "Мова програмування                  3850\n",
            "Загальний досвід роботи                0\n",
            "Досвід роботи на поточному місці       0\n",
            "Зарплата на місяць                     0\n",
            "Зміна зарплати за 12 місяців           0\n",
            "Місто                                  0\n",
            "Розмір компанії                        0\n",
            "Тип компанії                           0\n",
            "Стать                                  0\n",
            "Вік                                    0\n",
            "Освіта                                 0\n",
            "Ще студент                             0\n",
            "Рівень англійської                     0\n",
            "Дата заповнення                        0\n",
            "User.Agent                             0\n",
            "exp                                    0\n",
            "current_job_exp                        0\n",
            "salary                                 0\n",
            "dtype: int64\n"
          ]
        }
      ]
    },
    {
      "cell_type": "markdown",
      "source": [
        "Видаліть усі рядки у вихідній таблиці за допомогою методу dropna"
      ],
      "metadata": {
        "id": "wclCsCwvayIa"
      }
    },
    {
      "cell_type": "code",
      "source": [
        "data_cleaned = data_cleaned.dropna()\n",
        "print(data_cleaned.isnull().sum())"
      ],
      "metadata": {
        "colab": {
          "base_uri": "https://localhost:8080/"
        },
        "id": "OgUtu0_jazDK",
        "outputId": "ebef7e1c-0772-4ac4-84a2-5974089b0d25"
      },
      "execution_count": 28,
      "outputs": [
        {
          "output_type": "stream",
          "name": "stdout",
          "text": [
            "N                                   0\n",
            "Посада                              0\n",
            "Мова програмування                  0\n",
            "Загальний досвід роботи             0\n",
            "Досвід роботи на поточному місці    0\n",
            "Зарплата на місяць                  0\n",
            "Зміна зарплати за 12 місяців        0\n",
            "Місто                               0\n",
            "Розмір компанії                     0\n",
            "Тип компанії                        0\n",
            "Стать                               0\n",
            "Вік                                 0\n",
            "Освіта                              0\n",
            "Ще студент                          0\n",
            "Рівень англійської                  0\n",
            "Дата заповнення                     0\n",
            "User.Agent                          0\n",
            "exp                                 0\n",
            "current_job_exp                     0\n",
            "salary                              0\n",
            "dtype: int64\n"
          ]
        }
      ]
    },
    {
      "cell_type": "markdown",
      "source": [
        "Визначте новий розмір таблиці за допомогою методу shape"
      ],
      "metadata": {
        "id": "j7caT_mJbFF5"
      }
    },
    {
      "cell_type": "code",
      "source": [
        "print(data_cleaned.shape)"
      ],
      "metadata": {
        "colab": {
          "base_uri": "https://localhost:8080/"
        },
        "id": "979DNAn2bIQ6",
        "outputId": "584dd724-572c-4444-b088-7648a50ee1e8"
      },
      "execution_count": 29,
      "outputs": [
        {
          "output_type": "stream",
          "name": "stdout",
          "text": [
            "(4854, 20)\n"
          ]
        }
      ]
    },
    {
      "cell_type": "markdown",
      "source": [
        "Створіть нову таблицю python_data, в якій будуть тільки рядки зі спеціалістами, які вказали мову програмування Python"
      ],
      "metadata": {
        "id": "DvItxqcjbQX9"
      }
    },
    {
      "cell_type": "code",
      "source": [
        "python_data = data_cleaned[data_cleaned['Мова програмування'].str.contains('Python', na=False)]\n",
        "\n",
        "print(python_data)"
      ],
      "metadata": {
        "colab": {
          "base_uri": "https://localhost:8080/"
        },
        "id": "6dU9XweHbh5-",
        "outputId": "7c0c1c7c-e959-450e-89ff-b0f152df4457"
      },
      "execution_count": 30,
      "outputs": [
        {
          "output_type": "stream",
          "name": "stdout",
          "text": [
            "         N                    Посада Мова програмування  \\\n",
            "12      13         Software Engineer             Python   \n",
            "68      69         Software Engineer             Python   \n",
            "87      88  Junior Software Engineer             Python   \n",
            "114    115  Junior Software Engineer             Python   \n",
            "143    144  Junior Software Engineer             Python   \n",
            "...    ...                       ...                ...   \n",
            "8546  8547         Software Engineer             Python   \n",
            "8625  8626         Software Engineer             Python   \n",
            "8635  8636  Senior Software Engineer             Python   \n",
            "8673  8674  Junior Software Engineer             Python   \n",
            "8695  8696         Software Engineer             Python   \n",
            "\n",
            "     Загальний досвід роботи Досвід роботи на поточному місці  \\\n",
            "12                         1                  менше 3 місяців   \n",
            "68                       1.5                              0.5   \n",
            "87                       0.5                              0.5   \n",
            "114                      1.5                              0.5   \n",
            "143                        1                                1   \n",
            "...                      ...                              ...   \n",
            "8546                       5                                1   \n",
            "8625                       4                                1   \n",
            "8635       10 і більше років                  менше 3 місяців   \n",
            "8673                     0.5                              0.5   \n",
            "8695                       1                              0.5   \n",
            "\n",
            "      Зарплата на місяць  Зміна зарплати за 12 місяців      Місто  \\\n",
            "12                   800                           200       Київ   \n",
            "68                   900                           900       Київ   \n",
            "87                   600                             0       Київ   \n",
            "114                  685                           250       Київ   \n",
            "143                  750                           250       Київ   \n",
            "...                  ...                           ...        ...   \n",
            "8546                2000                           800  Запоріжжя   \n",
            "8625                1750                             0       Київ   \n",
            "8635                4000                          1300  Віддалено   \n",
            "8673                 350                            50       Київ   \n",
            "8695                1500                          1000       Київ   \n",
            "\n",
            "       Розмір компанії   Тип компанії     Стать  Вік        Освіта  \\\n",
            "12          до 50 осіб  Аутсорсингова  чоловіча   26          Вища   \n",
            "68          до 10 осіб        Стартап  чоловіча   21  Неповна Вища   \n",
            "87          до 10 осіб  Аутсорсингова  чоловіча   19  Неповна Вища   \n",
            "114       до 1000 осіб  Аутсорсингова  чоловіча   21  Неповна Вища   \n",
            "143         до 10 осіб  Аутсорсингова  чоловіча   21  Неповна Вища   \n",
            "...                ...            ...       ...  ...           ...   \n",
            "8546        до 50 осіб  Аутсорсингова  чоловіча   22  Неповна Вища   \n",
            "8625  більше 1000 осіб  Аутсорсингова  чоловіча   28       Середня   \n",
            "8635        до 10 осіб        Стартап  чоловіча   33          Вища   \n",
            "8673        до 50 осіб  Аутсорсингова  чоловіча   22          Вища   \n",
            "8695        до 10 осіб        Стартап  чоловіча   29          Вища   \n",
            "\n",
            "      Ще студент                    Рівень англійської      Дата заповнення  \\\n",
            "12         False    Pre-intermediate (нище середнього)  12/06/2017 13:05:54   \n",
            "68          True  Upper-Intermediate (вище середнього)  12/06/2017 13:11:17   \n",
            "87          True  Upper-Intermediate (вище середнього)  12/06/2017 13:12:25   \n",
            "114        False               Intermediate (середній)  12/06/2017 13:14:52   \n",
            "143         True  Upper-Intermediate (вище середнього)  12/06/2017 13:19:10   \n",
            "...          ...                                   ...                  ...   \n",
            "8546       False               Intermediate (середній)  10/07/2017 14:11:26   \n",
            "8625       False               Intermediate (середній)  11/07/2017 16:15:40   \n",
            "8635       False  Upper-Intermediate (вище середнього)  11/07/2017 17:51:36   \n",
            "8673       False               Intermediate (середній)   12/07/2017 9:37:16   \n",
            "8695       False               Intermediate (середній)  12/07/2017 14:39:21   \n",
            "\n",
            "                                             User.Agent   exp  \\\n",
            "12    Mozilla/5.0 (Windows NT 6.1; Win64; x64) Apple...   1.0   \n",
            "68    Mozilla/5.0 (Windows NT 10.0; Win64; x64) Appl...   1.5   \n",
            "87    Mozilla/5.0 (X11; Linux x86_64) AppleWebKit/53...   0.5   \n",
            "114   Mozilla/5.0 (X11; Linux x86_64) AppleWebKit/53...   1.5   \n",
            "143   Mozilla/5.0 (X11; Linux x86_64) AppleWebKit/53...   1.0   \n",
            "...                                                 ...   ...   \n",
            "8546  Mozilla/5.0 (Macintosh; Intel Mac OS X 10_12_5...   5.0   \n",
            "8625  Mozilla/5.0 (X11; Ubuntu; Linux x86_64; rv:54....   4.0   \n",
            "8635  Mozilla/5.0 (X11; Linux x86_64) AppleWebKit/53...  10.0   \n",
            "8673  Mozilla/5.0 (X11; Ubuntu; Linux x86_64; rv:54....   0.5   \n",
            "8695  Mozilla/5.0 (X11; Linux x86_64) AppleWebKit/53...   1.0   \n",
            "\n",
            "      current_job_exp  salary  \n",
            "12                0.0     800  \n",
            "68                0.5     900  \n",
            "87                0.5     600  \n",
            "114               0.5     685  \n",
            "143               1.0     750  \n",
            "...               ...     ...  \n",
            "8546              1.0    2000  \n",
            "8625              1.0    1750  \n",
            "8635              0.0    4000  \n",
            "8673              0.5     350  \n",
            "8695              0.5    1500  \n",
            "\n",
            "[207 rows x 20 columns]\n"
          ]
        }
      ]
    },
    {
      "cell_type": "markdown",
      "source": [
        "Визначте розмір таблиці python_data за допомогою методу shape"
      ],
      "metadata": {
        "id": "1JvbT5SFburS"
      }
    },
    {
      "cell_type": "code",
      "source": [
        "print(python_data.shape)"
      ],
      "metadata": {
        "colab": {
          "base_uri": "https://localhost:8080/"
        },
        "id": "Bsq4TzMCbwYM",
        "outputId": "a2a96fb4-c442-4830-9fd9-0a06c2964dd3"
      },
      "execution_count": 31,
      "outputs": [
        {
          "output_type": "stream",
          "name": "stdout",
          "text": [
            "(207, 20)\n"
          ]
        }
      ]
    },
    {
      "cell_type": "markdown",
      "source": [
        "Використовуючи метод groupby, виконайте групування за стовпчиком \"Посада\""
      ],
      "metadata": {
        "id": "3YTqeHJnb1jG"
      }
    },
    {
      "cell_type": "code",
      "source": [
        "aggregated_data = python_data.groupby('Посада').agg({'Зарплата на місяць': ['min', 'max']})\n",
        "\n",
        "print(aggregated_data)"
      ],
      "metadata": {
        "colab": {
          "base_uri": "https://localhost:8080/"
        },
        "id": "UDKHMTGZb25G",
        "outputId": "63cd0f21-ae27-4edf-845e-8ed2bcd9f46f"
      },
      "execution_count": 39,
      "outputs": [
        {
          "output_type": "stream",
          "name": "stdout",
          "text": [
            "                         Зарплата на місяць      \n",
            "                                        min   max\n",
            "Посада                                           \n",
            "Junior Software Engineer                100  1250\n",
            "Senior Software Engineer               1300  9200\n",
            "Software Engineer                       500  5400\n",
            "System Architect                       3000  5000\n",
            "Technical Lead                         1425  6200\n"
          ]
        }
      ]
    },
    {
      "cell_type": "markdown",
      "source": [
        "Створіть функцію fill_avg_salary, яка повертатиме середнє значення заробітної плати на місяць. Використовуйте її для методу apply та створіть новий стовпчик \"avg\""
      ],
      "metadata": {
        "id": "f-NUZ9v-c-l_"
      }
    },
    {
      "cell_type": "code",
      "source": [
        "def fill_avg_salary(row):\n",
        "    # Вычисление среднего значения зарплаты на месяц\n",
        "    avg_salary = (row['Зарплата на місяць']['min'] + row['Зарплата на місяць']['max']) / 2\n",
        "    return avg_salary\n",
        "\n",
        "# Создание нового столбца \"avg\" с использованием функции fill_avg_salary\n",
        "aggregated_data['avg'] = aggregated_data.apply(fill_avg_salary, axis=1)\n",
        "\n",
        "# Вывод данных с новым столбцом \"avg\"\n",
        "print(aggregated_data)"
      ],
      "metadata": {
        "colab": {
          "base_uri": "https://localhost:8080/"
        },
        "id": "nYbdO7pfdAU5",
        "outputId": "1771ea61-d828-4d7c-b4ef-0ffca4c6b7aa"
      },
      "execution_count": 40,
      "outputs": [
        {
          "output_type": "stream",
          "name": "stdout",
          "text": [
            "                         Зарплата на місяць           avg\n",
            "                                        min   max        \n",
            "Посада                                                   \n",
            "Junior Software Engineer                100  1250   675.0\n",
            "Senior Software Engineer               1300  9200  5250.0\n",
            "Software Engineer                       500  5400  2950.0\n",
            "System Architect                       3000  5000  4000.0\n",
            "Technical Lead                         1425  6200  3812.5\n"
          ]
        }
      ]
    },
    {
      "cell_type": "markdown",
      "source": [
        "Створіть описову статистику за допомогою методу describe для нового стовпчика."
      ],
      "metadata": {
        "id": "4W-U_67ndzhj"
      }
    },
    {
      "cell_type": "code",
      "source": [
        "aggregated_data_describe = pd.DataFrame(aggregated_data['avg'].describe())\n",
        "print(aggregated_data_describe)"
      ],
      "metadata": {
        "colab": {
          "base_uri": "https://localhost:8080/"
        },
        "id": "8dZqFRI-d0QD",
        "outputId": "f55b413f-a352-46d2-a373-0695dd90ff5c"
      },
      "execution_count": 41,
      "outputs": [
        {
          "output_type": "stream",
          "name": "stdout",
          "text": [
            "               avg\n",
            "count     5.000000\n",
            "mean   3337.500000\n",
            "std    1700.091909\n",
            "min     675.000000\n",
            "25%    2950.000000\n",
            "50%    3812.500000\n",
            "75%    4000.000000\n",
            "max    5250.000000\n"
          ]
        }
      ]
    },
    {
      "cell_type": "markdown",
      "source": [
        "Збережіть отриману таблицю в CSV файл"
      ],
      "metadata": {
        "id": "U0T27hg7eilw"
      }
    },
    {
      "cell_type": "code",
      "source": [
        "output_file_path = '/content/drive/MyDrive/Colab Notebooks/avg_salary_stats.csv'\n",
        "aggregated_data_describe.to_csv(output_file_path, index=False)"
      ],
      "metadata": {
        "id": "pmhRSOE5ei1P"
      },
      "execution_count": 44,
      "outputs": []
    }
  ]
}