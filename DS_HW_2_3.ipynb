{
  "nbformat": 4,
  "nbformat_minor": 0,
  "metadata": {
    "colab": {
      "provenance": []
    },
    "kernelspec": {
      "name": "python3",
      "display_name": "Python 3"
    },
    "language_info": {
      "name": "python"
    }
  },
  "cells": [
    {
      "cell_type": "markdown",
      "source": [
        "# Частина третя: Аналіз датасет c Kaggle.com"
      ],
      "metadata": {
        "id": "TSF4LMEbl2z4"
      }
    },
    {
      "cell_type": "code",
      "execution_count": 14,
      "metadata": {
        "colab": {
          "base_uri": "https://localhost:8080/"
        },
        "id": "hJit6EqvktkA",
        "outputId": "463edfcb-a5f2-4dfd-978e-825f523e64fd"
      },
      "outputs": [
        {
          "output_type": "stream",
          "name": "stdout",
          "text": [
            "Drive already mounted at /content/drive; to attempt to forcibly remount, call drive.mount(\"/content/drive\", force_remount=True).\n"
          ]
        }
      ],
      "source": [
        "import pandas as pd\n",
        "import matplotlib.pyplot as plt\n",
        "\n",
        "from google.colab import drive\n",
        "drive.mount('/content/drive')"
      ]
    },
    {
      "cell_type": "markdown",
      "source": [
        "* Прочитайте csv файл (використовуйте функцію read_csv)\n",
        "* Виведіть перші п'ять рядків (використовується функція head)\n",
        "* Виведіть розміри датасету (використовуйте атрибут shape)\n",
        "* Відповідь: Про скільки книг зберігає дані датасет?"
      ],
      "metadata": {
        "id": "ubB0uD80l5k9"
      }
    },
    {
      "cell_type": "code",
      "source": [
        "file_path = '/content/drive/MyDrive/Colab Notebooks/bestsellers with categories.csv'\n",
        "data = pd.read_csv(file_path)\n",
        "\n",
        "data.columns = ['name', 'author', 'user_rating', 'reviews', 'price', 'year', 'genre']\n",
        "\n",
        "print(data.head())\n",
        "print()\n",
        "print(data.shape)\n",
        "print()\n",
        "book_names = data['name'].nunique()\n",
        "print(f'Кол-во книг в рейтинге: {book_names}')\n",
        "\n",
        "\n",
        "\n"
      ],
      "metadata": {
        "colab": {
          "base_uri": "https://localhost:8080/"
        },
        "id": "rkYF8tm6ldTy",
        "outputId": "d49584f8-8e37-45c1-b36b-50ace6b539e5"
      },
      "execution_count": 10,
      "outputs": [
        {
          "output_type": "stream",
          "name": "stdout",
          "text": [
            "                                                name  \\\n",
            "0                      10-Day Green Smoothie Cleanse   \n",
            "1                                  11/22/63: A Novel   \n",
            "2            12 Rules for Life: An Antidote to Chaos   \n",
            "3                             1984 (Signet Classics)   \n",
            "4  5,000 Awesome Facts (About Everything!) (Natio...   \n",
            "\n",
            "                     author  user_rating  reviews  price  year        genre  \n",
            "0                  JJ Smith          4.7    17350      8  2016  Non Fiction  \n",
            "1              Stephen King          4.6     2052     22  2011      Fiction  \n",
            "2        Jordan B. Peterson          4.7    18979     15  2018  Non Fiction  \n",
            "3             George Orwell          4.7    21424      6  2017      Fiction  \n",
            "4  National Geographic Kids          4.8     7665     12  2019  Non Fiction  \n",
            "\n",
            "(550, 7)\n",
            "\n",
            "Кол-во книг в рейтинге: 351\n"
          ]
        }
      ]
    },
    {
      "cell_type": "markdown",
      "source": [
        "## Первинне дослідження даних\n",
        "\n",
        "* Перевірте, чи у всіх рядків вистачає даних: виведіть кількість пропусків (na) у кожному зі стовпців (використовуйте функції isna та sum)\n",
        "* **Відповідь**: Чи є в якихось змінних пропуски? (Так / ні)\n",
        "* Перевірте, які є унікальні значення в колонці genre (використовуйте функцію unique)\n",
        "* **Відповідь**: Які є унікальні жанри?\n",
        "* Тепер подивіться на розподіл цін: побудуйте діаграму (використовуйте kind='hist')\n",
        "* Визначте, яка ціна у нас максимальна, мінімальна, середня, медіанна (використовуйте функції max, min, mean, median)\n",
        "* **Відповідь**: Максимальна ціна?\n",
        "* **Відповідь**: Мінімальна ціна?\n",
        "* **Відповідь**: Середня ціна?\n",
        "* **Відповідь**: Медіанна ціна?"
      ],
      "metadata": {
        "id": "-QpL_c4Xl37R"
      }
    },
    {
      "cell_type": "code",
      "source": [
        "print(data.isnull().sum())\n",
        "print('Відповідь: Чи є в якихось змінних пропуски? - Нет')\n",
        "print()\n",
        "\n",
        "\n",
        "unique_genres = data['genre'].unique()\n",
        "print('Відповідь: Які є унікальні жанри?')\n",
        "print(\"Унікальні значення в колонці 'genre':\", unique_genres)\n",
        "print()\n",
        "\n",
        "\n",
        "data['price'].plot(kind='hist', bins=20, edgecolor='black')\n",
        "\n",
        "# Настройка заголовка и меток осей\n",
        "plt.title('Розподіл цін')\n",
        "plt.xlabel('Ціна')\n",
        "plt.ylabel('Частота')\n",
        "\n",
        "# Отображение гистограммы\n",
        "plt.show()\n",
        "\n",
        "print()\n",
        "\n",
        "max_price = data['price'].max()\n",
        "min_price = data['price'].min()\n",
        "mean_price = data['price'].mean()\n",
        "median_price = data['price'].median()\n",
        "\n",
        "print(\"Максимальна ціна:\", max_price)\n",
        "print(\"Мінімальна ціна:\", min_price)\n",
        "print(\"Середня ціна:\", mean_price)\n",
        "print(\"Медіанна ціна:\", median_price)"
      ],
      "metadata": {
        "colab": {
          "base_uri": "https://localhost:8080/",
          "height": 784
        },
        "id": "duVINubunUtp",
        "outputId": "b66bb70c-eaad-49f7-fe1f-a942ecd0485e"
      },
      "execution_count": 16,
      "outputs": [
        {
          "output_type": "stream",
          "name": "stdout",
          "text": [
            "name           0\n",
            "author         0\n",
            "user_rating    0\n",
            "reviews        0\n",
            "price          0\n",
            "year           0\n",
            "genre          0\n",
            "dtype: int64\n",
            "Відповідь: Чи є в якихось змінних пропуски? - Нет\n",
            "\n",
            "Відповідь: Які є унікальні жанри?\n",
            "Унікальні значення в колонці 'genre': ['Non Fiction' 'Fiction']\n",
            "\n"
          ]
        },
        {
          "output_type": "display_data",
          "data": {
            "text/plain": [
              "<Figure size 640x480 with 1 Axes>"
            ],
            "image/png": "[encoded data removed]"
          },
          "metadata": {}
        },
        {
          "output_type": "stream",
          "name": "stdout",
          "text": [
            "\n",
            "Максимальна ціна: 105\n",
            "Мінімальна ціна: 0\n",
            "Середня ціна: 13.1\n",
            "Медіанна ціна: 11.0\n"
          ]
        }
      ]
    },
    {
      "cell_type": "markdown",
      "source": [
        "## Пошук та сортування даних\n",
        "* **Відповідь**: Який рейтинг у датасеті найвищий? Відповідь:\n",
        "* **Відповідь**: Скільки книг мають такий рейтинг? Відповідь:\n",
        "* **Відповідь**: Яка книга має найбільше відгуків? Відповідь:\n",
        "* **Відповідь**: З тих книг, що потрапили до Топ-50 у 2015 році, яка книга найдорожча (можна використати проміжний датафрейм)? Відповідь:\n",
        "* **Відповідь**: Скільки книг жанру Fiction потрапили до Топ-50 у 2010 році (використовуйте &)? Відповідь:\n",
        "* **Відповідь**: Скільки книг з рейтингом 4.9 потрапило до рейтингу у 2010 та 2011 роках (використовуйте | або функцію isin)? Відповідь:\n",
        "* І насамкінець, давайте відсортуємо за зростанням ціни всі книги, які потрапили до рейтингу в 2015 році і коштують дешевше за 8 доларів (використовуйте функцію sort_values).\n",
        "* **Відповідь**: Яка книга остання у відсортованому списку? Відповідь:"
      ],
      "metadata": {
        "id": "P-fWfm6npmeE"
      }
    },
    {
      "cell_type": "code",
      "source": [
        "max_rating = data['user_rating'].max()\n",
        "print(\"Максимальний рейтинг у датасеті:\", max_rating)\n",
        "print()\n",
        "\n",
        "num_books_with_max_rating = data['user_rating'].value_counts()[max_rating]\n",
        "print(\"Кількість книг з максимальним рейтингом:\", num_books_with_max_rating)\n",
        "print()\n",
        "\n",
        "max_reviews_book = data['reviews'].idxmax()\n",
        "max_reviews_book_title = data.loc[max_reviews_book, 'name']\n",
        "print(\"Книга з найбільшою кількістю відгуків:\", max_reviews_book_title)\n",
        "print()\n",
        "\n",
        "books_2015 = data[data['year'] == 2015].sort_values(by='price', ascending=False)\n",
        "most_expensive_book_title = books_2015['name'].iloc[0]\n",
        "print(\"Найдорожча книга з Топ-50 у 2015 році:\", most_expensive_book_title)\n",
        "print()\n",
        "\n",
        "num_fiction_books_2010 = ((data['genre'] == 'Fiction') & (data['year'] == 2010)).sum()\n",
        "print(\"Кількість книг жанру Fiction у Топ-50 у 2010 році:\", num_fiction_books_2010)\n",
        "print()\n",
        "\n",
        "num_books_with_rating_4_9 = len(data[(data['user_rating'] == 4.9) & (data['year'].isin([2010, 2011]))])\n",
        "print(\"Кількість книг з рейтингом 4.9 у 2010 та 2011 роках:\", num_books_with_rating_4_9)\n",
        "print()\n",
        "\n",
        "books_2015_asc = books_2015[books_2015['price'] < 8].sort_values(by='price', ascending=True)\n",
        "print('Всі книги, які потрапили до рейтингу в 2015 році і коштують дешевше за 8 доларів')\n",
        "print(books_2015_asc['name'])\n",
        "print()\n",
        "\n",
        "last_book = books_2015_asc.iloc[-1]['name']\n",
        "print('Яка книга остання у відсортованому списку?', last_book)"
      ],
      "metadata": {
        "colab": {
          "base_uri": "https://localhost:8080/"
        },
        "id": "yI0bW_f4pmM6",
        "outputId": "46e096f2-1c2a-4c9a-caf0-986411512d11"
      },
      "execution_count": 37,
      "outputs": [
        {
          "output_type": "stream",
          "name": "stdout",
          "text": [
            "Максимальний рейтинг у датасеті: 4.9\n",
            "\n",
            "Кількість книг з максимальним рейтингом: 52\n",
            "\n",
            "Книга з найбільшою кількістю відгуків: Where the Crawdads Sing\n",
            "\n",
            "Найдорожча книга з Топ-50 у 2015 році: Publication Manual of the American Psychological Association, 6th Edition\n",
            "\n",
            "Кількість книг жанру Fiction у Топ-50 у 2010 році: 20\n",
            "\n",
            "Кількість книг з рейтингом 4.9 у 2010 та 2011 роках: 1\n",
            "\n",
            "Всі книги, які потрапили до рейтингу в 2015 році і коштують дешевше за 8 доларів\n",
            "507                                To Kill a Mockingbird\n",
            "111                                      First 100 Words\n",
            "123                                 Giraffes Can't Dance\n",
            "206                           Knock-Knock Jokes for Kids\n",
            "210                        Laugh-Out-Loud Jokes for Kids\n",
            "54     Creative Haven Creative Cats Coloring Book (Ad...\n",
            "224                                     Love You Forever\n",
            "28                          Baby Touch and Feel: Animals\n",
            "55     Creative Haven Owls Coloring Book (Adult Color...\n",
            "478                          The Very Hungry Caterpillar\n",
            "89     Dover Creative Haven Art Nouveau Animal Design...\n",
            "201    Killing Reagan: The Violent Assault That Chang...\n",
            "63                        Dear Zoo: A Lift-the-Flap Book\n",
            "17        Adult Coloring Book: Stress Relieving Patterns\n",
            "16     Adult Coloring Book: Stress Relieving Animal D...\n",
            "376    The Four Agreements: A Practical Guide to Pers...\n",
            "253                Old School (Diary of a Wimpy Kid #10)\n",
            "Name: name, dtype: object\n",
            "\n",
            "Яка книга остання у відсортованому списку? Old School (Diary of a Wimpy Kid #10)\n"
          ]
        }
      ]
    },
    {
      "cell_type": "markdown",
      "source": [
        "## Агрегування даних та з'єднання таблиць"
      ],
      "metadata": {
        "id": "8d2Wlm4swT9Z"
      }
    },
    {
      "cell_type": "markdown",
      "source": [
        "Для початку давайте подивимося на максимальну та мінімальну ціни для кожного з жанрів (використовуйте функції groupby та agg, для підрахунку мінімальних та максимальних значень використовуйте max та min). Не беріть усі стовпці, виберіть тільки потрібні вам"
      ],
      "metadata": {
        "id": "MAtfkCt2yCHg"
      }
    },
    {
      "cell_type": "code",
      "source": [
        "genre_prices = data.groupby('genre')['price'].agg(['min', 'max'])\n",
        "print(genre_prices)"
      ],
      "metadata": {
        "colab": {
          "base_uri": "https://localhost:8080/"
        },
        "id": "VdzEaHhvx8jT",
        "outputId": "f243e667-c384-49aa-a9b5-5ecae8acce1f"
      },
      "execution_count": 38,
      "outputs": [
        {
          "output_type": "stream",
          "name": "stdout",
          "text": [
            "             min  max\n",
            "genre                \n",
            "Fiction        0   82\n",
            "Non Fiction    0  105\n"
          ]
        }
      ]
    },
    {
      "cell_type": "markdown",
      "source": [
        "Відповідь: Максимальна ціна для жанру Fiction: Відповідь"
      ],
      "metadata": {
        "id": "xJeJ7jf0zkMO"
      }
    },
    {
      "cell_type": "code",
      "source": [
        "max_price_fiction = genre_prices.loc['Fiction', 'max']\n",
        "print(\"Максимальна ціна для жанру Fiction:\", max_price_fiction)"
      ],
      "metadata": {
        "colab": {
          "base_uri": "https://localhost:8080/"
        },
        "id": "JSL6OZ8G0BsT",
        "outputId": "44b38d6e-b810-4efd-f3e1-f8d11ad82f25"
      },
      "execution_count": 39,
      "outputs": [
        {
          "output_type": "stream",
          "name": "stdout",
          "text": [
            "Максимальна ціна для жанру Fiction: 82\n"
          ]
        }
      ]
    },
    {
      "cell_type": "markdown",
      "source": [
        "Відповідь: Мінімальна ціна для жанру Fiction: Відповідь"
      ],
      "metadata": {
        "id": "ZhfbQWbs0E8c"
      }
    },
    {
      "cell_type": "code",
      "source": [
        "min_price_fiction = genre_prices.loc['Fiction', 'min']\n",
        "print(\"Мінімальна ціна для жанру Fiction:\", min_price_fiction)"
      ],
      "metadata": {
        "colab": {
          "base_uri": "https://localhost:8080/"
        },
        "id": "QdzLcJPC0GVA",
        "outputId": "fe0d4a7f-48a9-45f7-8164-c82bdae462ef"
      },
      "execution_count": 40,
      "outputs": [
        {
          "output_type": "stream",
          "name": "stdout",
          "text": [
            "Мінімальна ціна для жанру Fiction: 0\n"
          ]
        }
      ]
    },
    {
      "cell_type": "markdown",
      "source": [
        "Відповідь: Максимальна ціна для жанру Non Fiction: Відповідь"
      ],
      "metadata": {
        "id": "wDrRyl6r0bzn"
      }
    },
    {
      "cell_type": "code",
      "source": [
        "max_price_non_fiction = genre_prices.loc['Non Fiction', 'max']\n",
        "print(\"Максимальна ціна для жанру Fiction:\", max_price_non_fiction)"
      ],
      "metadata": {
        "colab": {
          "base_uri": "https://localhost:8080/"
        },
        "id": "fjZWhfk00eV_",
        "outputId": "11de6a84-a987-4d6d-e952-db2831364a05"
      },
      "execution_count": 41,
      "outputs": [
        {
          "output_type": "stream",
          "name": "stdout",
          "text": [
            "Максимальна ціна для жанру Fiction: 105\n"
          ]
        }
      ]
    },
    {
      "cell_type": "markdown",
      "source": [
        "Відповідь: Мінімальна ціна для жанру Non Fiction: Відповідь"
      ],
      "metadata": {
        "id": "qiUpHH9O0c-r"
      }
    },
    {
      "cell_type": "code",
      "source": [
        "min_price_non_fiction = genre_prices.loc['Non Fiction', 'min']\n",
        "print(\"Мінімальна ціна для жанру Fiction:\", min_price_non_fiction)"
      ],
      "metadata": {
        "colab": {
          "base_uri": "https://localhost:8080/"
        },
        "id": "m46Osxyf0f5L",
        "outputId": "0c7e7e6c-d34e-40c1-fa2f-31d6d3adf20f"
      },
      "execution_count": 42,
      "outputs": [
        {
          "output_type": "stream",
          "name": "stdout",
          "text": [
            "Мінімальна ціна для жанру Fiction: 0\n"
          ]
        }
      ]
    },
    {
      "cell_type": "markdown",
      "source": [
        "Тепер створіть новий датафрейм, який вміщатиме кількість книг для кожного з авторів (використовуйте функції groupby та agg, для підрахунку кількості використовуйте count). Не беріть усі стовпці, виберете тільки потрібні"
      ],
      "metadata": {
        "id": "xhDbbAqs1WiN"
      }
    },
    {
      "cell_type": "code",
      "source": [
        "aggregated_data = data.groupby('author').agg({'name': 'count'})\n",
        "print(aggregated_data)\n",
        "print('Розмірність таблиці', aggregated_data.shape[0] )"
      ],
      "metadata": {
        "colab": {
          "base_uri": "https://localhost:8080/"
        },
        "id": "JFDRvdJ81XU2",
        "outputId": "38328cfe-5886-408c-d5de-0547efdc9905"
      },
      "execution_count": 47,
      "outputs": [
        {
          "output_type": "stream",
          "name": "stdout",
          "text": [
            "                            name\n",
            "author                          \n",
            "Abraham Verghese               2\n",
            "Adam Gasiewski                 1\n",
            "Adam Mansbach                  1\n",
            "Adir Levy                      1\n",
            "Admiral William H. McRaven     1\n",
            "...                          ...\n",
            "Walter Isaacson                3\n",
            "William Davis                  2\n",
            "William P. Young               2\n",
            "Wizards RPG Team               3\n",
            "Zhi Gang Sha                   2\n",
            "\n",
            "[248 rows x 1 columns]\n",
            "Розмірність таблиці 248\n"
          ]
        }
      ]
    },
    {
      "cell_type": "markdown",
      "source": [
        "Який автор має найбільше книг?"
      ],
      "metadata": {
        "id": "XIU5PDmH3F-q"
      }
    },
    {
      "cell_type": "code",
      "source": [
        "author_most_books = aggregated_data['name'].idxmax()\n",
        "print(\"Автор з найбільшою кількістю книг:\", author_most_books)"
      ],
      "metadata": {
        "colab": {
          "base_uri": "https://localhost:8080/"
        },
        "id": "zfOgHqNp3H0G",
        "outputId": "afd2cda4-b926-4fc5-b3eb-72f4789c6918"
      },
      "execution_count": 48,
      "outputs": [
        {
          "output_type": "stream",
          "name": "stdout",
          "text": [
            "Автор з найбільшою кількістю книг: Jeff Kinney\n"
          ]
        }
      ]
    },
    {
      "cell_type": "markdown",
      "source": [
        "Скільки книг цього автора"
      ],
      "metadata": {
        "id": "UENCqllM3egB"
      }
    },
    {
      "cell_type": "code",
      "source": [
        "author_books = aggregated_data.loc[author_most_books, 'name']\n",
        "print(\"Кількість книг автора:\", author_books)"
      ],
      "metadata": {
        "colab": {
          "base_uri": "https://localhost:8080/"
        },
        "id": "wR_qfx-q3fXy",
        "outputId": "74d03db0-c03f-4a0d-dda7-1741f8af19a2"
      },
      "execution_count": 50,
      "outputs": [
        {
          "output_type": "stream",
          "name": "stdout",
          "text": [
            "Кількість книг автора: 12\n"
          ]
        }
      ]
    },
    {
      "cell_type": "markdown",
      "source": [
        "Тепер створіть другий датафрейм, який буде вміщати середній рейтинг для кожного автора (використовуйте функції groupby та agg, для підрахунку середнього значення використовуйте mean). Не беріть усі стовпці, виберете тільки потрібні"
      ],
      "metadata": {
        "id": "P9CluwCd35MS"
      }
    },
    {
      "cell_type": "code",
      "source": [
        "authors_rating = data.groupby('author').agg({'user_rating': 'mean'})\n",
        "print(authors_rating)"
      ],
      "metadata": {
        "colab": {
          "base_uri": "https://localhost:8080/"
        },
        "id": "7cAveZqQ4Ab4",
        "outputId": "4e2e99c0-81ba-4caf-c20f-02c77e622116"
      },
      "execution_count": 55,
      "outputs": [
        {
          "output_type": "stream",
          "name": "stdout",
          "text": [
            "                            user_rating\n",
            "author                                 \n",
            "Abraham Verghese               4.600000\n",
            "Adam Gasiewski                 4.400000\n",
            "Adam Mansbach                  4.800000\n",
            "Adir Levy                      4.800000\n",
            "Admiral William H. McRaven     4.700000\n",
            "...                                 ...\n",
            "Walter Isaacson                4.566667\n",
            "William Davis                  4.400000\n",
            "William P. Young               4.600000\n",
            "Wizards RPG Team               4.800000\n",
            "Zhi Gang Sha                   4.600000\n",
            "\n",
            "[248 rows x 1 columns]\n"
          ]
        }
      ]
    },
    {
      "cell_type": "markdown",
      "source": [
        "У якого автора середній рейтинг мінімальний?"
      ],
      "metadata": {
        "id": "LtQw3A734RRt"
      }
    },
    {
      "cell_type": "code",
      "source": [
        "author_min_rating = authors_rating['user_rating'].idxmin()\n",
        "print(\"Автор з найнижчим середнім рейтингом:\", author_min_rating)"
      ],
      "metadata": {
        "colab": {
          "base_uri": "https://localhost:8080/"
        },
        "id": "GYddTAFz4R1p",
        "outputId": "a8231a76-a2b8-4d35-ffa4-6aa2c75fe89f"
      },
      "execution_count": 56,
      "outputs": [
        {
          "output_type": "stream",
          "name": "stdout",
          "text": [
            "Автор з найнижчим середнім рейтингом: Donna Tartt\n"
          ]
        }
      ]
    },
    {
      "cell_type": "markdown",
      "source": [
        "Який у цього автора середній рейтинг"
      ],
      "metadata": {
        "id": "4EtGZ6ZO4kMs"
      }
    },
    {
      "cell_type": "code",
      "source": [
        "author_rating = authors_rating.loc[author_min_rating, 'user_rating']\n",
        "print(\"Рейтинг автора:\", author_rating)"
      ],
      "metadata": {
        "colab": {
          "base_uri": "https://localhost:8080/"
        },
        "id": "ru0eDAgQ4klm",
        "outputId": "b16b951c-4e27-4bd5-bd7c-2aa9413653f4"
      },
      "execution_count": 59,
      "outputs": [
        {
          "output_type": "stream",
          "name": "stdout",
          "text": [
            "Рейтинг автора: 3.9\n"
          ]
        }
      ]
    },
    {
      "cell_type": "markdown",
      "source": [
        "* З'єднайте останні два датафрейми так, щоб для кожного автора було видно кількість книг та середній рейтинг (Використовуйте функцію concat з параметром axis=1). Збережіть результат у змінну\n",
        "* Відсортуйте датафрейм за зростаючою кількістю книг та зростаючим рейтингом (використовуйте функцію sort_values)"
      ],
      "metadata": {
        "id": "WnOTTWGm5QYN"
      }
    },
    {
      "cell_type": "code",
      "source": [
        "new_authors = pd.concat([aggregated_data, authors_rating], axis=1)\n",
        "print(new_authors)\n",
        "print()\n",
        "sorted_authors = new_authors.sort_values(by=['name', 'user_rating'], ascending=[True, True])\n",
        "print(sorted_authors)"
      ],
      "metadata": {
        "colab": {
          "base_uri": "https://localhost:8080/"
        },
        "id": "bEyzG8Et5TBf",
        "outputId": "feaf8bf5-c1c2-4d0a-982a-a4e009ac78a9"
      },
      "execution_count": 61,
      "outputs": [
        {
          "output_type": "stream",
          "name": "stdout",
          "text": [
            "                            name  user_rating\n",
            "author                                       \n",
            "Abraham Verghese               2     4.600000\n",
            "Adam Gasiewski                 1     4.400000\n",
            "Adam Mansbach                  1     4.800000\n",
            "Adir Levy                      1     4.800000\n",
            "Admiral William H. McRaven     1     4.700000\n",
            "...                          ...          ...\n",
            "Walter Isaacson                3     4.566667\n",
            "William Davis                  2     4.400000\n",
            "William P. Young               2     4.600000\n",
            "Wizards RPG Team               3     4.800000\n",
            "Zhi Gang Sha                   2     4.600000\n",
            "\n",
            "[248 rows x 2 columns]\n",
            "\n",
            "                                    name  user_rating\n",
            "author                                               \n",
            "Muriel Barbery                         1     4.000000\n",
            "Chris Cleave                           1     4.100000\n",
            "Ian K. Smith M.D.                      1     4.100000\n",
            "Pierre Dukan                           1     4.100000\n",
            "Elizabeth Strout                       1     4.200000\n",
            "...                                  ...          ...\n",
            "American Psychological Association    10     4.500000\n",
            "Suzanne Collins                       11     4.663636\n",
            "Gary Chapman                          11     4.736364\n",
            "Rick Riordan                          11     4.772727\n",
            "Jeff Kinney                           12     4.800000\n",
            "\n",
            "[248 rows x 2 columns]\n"
          ]
        }
      ]
    },
    {
      "cell_type": "markdown",
      "source": [
        "Який автор перший у списку?"
      ],
      "metadata": {
        "id": "QA-a-vTO6zp0"
      }
    },
    {
      "cell_type": "code",
      "source": [
        "first_author = sorted_authors.index[0]\n",
        "print('Перший автор у списку:', first_author)"
      ],
      "metadata": {
        "colab": {
          "base_uri": "https://localhost:8080/"
        },
        "id": "L0Btxz8k6yYi",
        "outputId": "155ea5cf-a992-421e-b07c-b7b693397d71"
      },
      "execution_count": 67,
      "outputs": [
        {
          "output_type": "stream",
          "name": "stdout",
          "text": [
            "Перший автор у списку: Muriel Barbery\n"
          ]
        }
      ]
    },
    {
      "cell_type": "markdown",
      "source": [
        "График по кол-ву книг автора в рейтинге за 2015"
      ],
      "metadata": {
        "id": "SwnUiVzk8OC8"
      }
    },
    {
      "cell_type": "code",
      "source": [
        "# print(books_2015)\n",
        "count_books_by_author_2015 = books_2015.groupby(['genre']).agg({'name': 'count'})\n",
        "print(count_books_by_author_2015)\n",
        "\n",
        "\n",
        "plt.figure(figsize=(10, 6))\n",
        "plt.pie(count_books_by_author_2015['name'], labels=count_books_by_author_2015.index, autopct='%1.1f%%', startangle=140)\n",
        "plt.axis('equal')  # Забезпечує кругову форму\n",
        "plt.title('Розподіл кількості книг кожного жанру в рейтингу за 2015 рік')\n",
        "plt.tight_layout()\n",
        "plt.show()"
      ],
      "metadata": {
        "colab": {
          "base_uri": "https://localhost:8080/",
          "height": 676
        },
        "id": "8kjYBIvy8Yq-",
        "outputId": "d8955f47-43ec-42b8-ca06-867bd43563d9"
      },
      "execution_count": 75,
      "outputs": [
        {
          "output_type": "stream",
          "name": "stdout",
          "text": [
            "             name\n",
            "genre            \n",
            "Fiction        17\n",
            "Non Fiction    33\n"
          ]
        },
        {
          "output_type": "display_data",
          "data": {
            "text/plain": [
              "<Figure size 1000x600 with 1 Axes>"
            ],
            "image/png": "[encoded data removed]"
          },
          "metadata": {}
        }
      ]
    }
  ]
}